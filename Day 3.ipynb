{
 "cells": [
  {
   "cell_type": "code",
   "execution_count": 1,
   "metadata": {},
   "outputs": [],
   "source": [
    "using Test;"
   ]
  },
  {
   "cell_type": "code",
   "execution_count": 2,
   "metadata": {},
   "outputs": [],
   "source": [
    "struct Point\n",
    "    x::Int\n",
    "    y::Int\n",
    "end\n",
    "\n",
    "GridData = Dict{Int,Int}\n",
    "Grid = Dict{Point, GridData};\n",
    "\n",
    "Intersections = Dict{Point, Int};"
   ]
  },
  {
   "cell_type": "code",
   "execution_count": 3,
   "metadata": {},
   "outputs": [
    {
     "data": {
      "text/plain": [
       "parsewires (generic function with 1 method)"
      ]
     },
     "execution_count": 3,
     "metadata": {},
     "output_type": "execute_result"
    }
   ],
   "source": [
    "function parsewires(raw::Array{String,1})\n",
    "    map(l -> split(l, \",\"), raw)\n",
    "end"
   ]
  },
  {
   "cell_type": "code",
   "execution_count": 4,
   "metadata": {},
   "outputs": [],
   "source": [
    "function diranddist(instruction::AbstractString)::Tuple{AbstractString, Int}\n",
    "    string(instruction[1]), parse(Int, instruction[2:end])\n",
    "end\n",
    "\n",
    "@test diranddist(\"R75\") == (\"R\", 75);"
   ]
  },
  {
   "cell_type": "code",
   "execution_count": 5,
   "metadata": {},
   "outputs": [],
   "source": [
    "function wiredata(grid::Grid, point::Point, wire::Int, step::Int)::GridData\n",
    "    data = get(grid, point, GridData())\n",
    "    \n",
    "    data[wire] = step\n",
    "    \n",
    "    data\n",
    "end\n",
    "\n",
    "examplepoint = Point(0, 1)\n",
    "examplegrid_empty = Grid()\n",
    "\n",
    "wire, step = 1, 1\n",
    "\n",
    "@test wiredata(examplegrid_empty, examplepoint, wire, step) == GridData(wire => step);\n",
    "\n",
    "examplegrid = Grid()\n",
    "examplegrid[examplepoint] = GridData(2 => 5)\n",
    "\n",
    "@test wiredata(examplegrid, examplepoint, wire, step) == GridData(wire => step, 2 => 5);"
   ]
  },
  {
   "cell_type": "code",
   "execution_count": 6,
   "metadata": {},
   "outputs": [],
   "source": [
    "function distance(a::Point, b::Point)::Int\n",
    "    abs(a.x - b.x) + abs(a.y - b.y)\n",
    "end\n",
    "\n",
    "examplep1 = Point(1, 5)\n",
    "examplep2 = Point(-6, 2)\n",
    "\n",
    "@test distance(examplep1, examplep2) == 10;"
   ]
  },
  {
   "cell_type": "code",
   "execution_count": 7,
   "metadata": {},
   "outputs": [
    {
     "data": {
      "text/plain": [
       "solve (generic function with 1 method)"
      ]
     },
     "execution_count": 7,
     "metadata": {},
     "output_type": "execute_result"
    }
   ],
   "source": [
    "function solve(wires)\n",
    "    grid = Grid()\n",
    "    \n",
    "    for (wire, instructions) in enumerate(wires)\n",
    "        x, y, step = 0, 0, 0\n",
    "\n",
    "        for instruction in instructions\n",
    "            dir, dist = diranddist(instruction)\n",
    "            \n",
    "            step = step + 1\n",
    "            \n",
    "            if dir == \"R\"\n",
    "                for _ in 1:dist\n",
    "                    x = x + 1\n",
    "\n",
    "                    point = Point(x, y)\n",
    "                    data = wiredata(grid, point, wire, step)\n",
    "\n",
    "                    grid[point] = data\n",
    "                end\n",
    "\n",
    "            elseif dir == \"L\"\n",
    "                for _ in 1:dist\n",
    "                    x = x - 1\n",
    "\n",
    "                    point = Point(x, y)\n",
    "                    data = wiredata(grid, point, wire, step)          \n",
    "\n",
    "                    grid[point] = data\n",
    "                end\n",
    "\n",
    "            elseif dir == \"U\"\n",
    "                for _ in 1:dist\n",
    "                    y = y + 1\n",
    "\n",
    "                    point = Point(x, y)\n",
    "                    data = wiredata(grid, point, wire, step)\n",
    "\n",
    "                    grid[point] = data\n",
    "                end\n",
    "\n",
    "            elseif dir == \"D\"\n",
    "                for _ in 1:dist\n",
    "                    y = y - 1\n",
    "\n",
    "                    point = Point(x, y)\n",
    "                    data = wiredata(grid, point, wire, step)\n",
    "\n",
    "                    grid[point] = data\n",
    "                end\n",
    "            else\n",
    "                error(\"Got invalid direction: $dir\\n\")\n",
    "            end\n",
    "        end\n",
    "    end\n",
    "    \n",
    "    grid\n",
    "end"
   ]
  },
  {
   "cell_type": "code",
   "execution_count": 8,
   "metadata": {},
   "outputs": [],
   "source": [
    "function mindist(grid::Grid)\n",
    "    intersections = filter(p -> length(values(p.second)) > 1, grid)\n",
    "    \n",
    "    origin = Point(0, 0)\n",
    "    distances = map(p -> distance(origin, p), collect(keys(intersections)))\n",
    "        \n",
    "    minimum(distances)\n",
    "end\n",
    "\n",
    "example1 = parsewires([\n",
    "    \"R75,D30,R83,U83,L12,D49,R71,U7,L72\",\n",
    "    \"U62,R66,U55,R34,D71,R55,D58,R83\"\n",
    "])\n",
    "\n",
    "example2 = parsewires([\n",
    "    \"R98,U47,R26,D63,R33,U87,L62,D20,R33,U53,R51\",\n",
    "    \"U98,R91,D20,R16,D67,R40,U7,R15,U6,R7\"\n",
    "])\n",
    "\n",
    "grid1 = solve(example1)\n",
    "@test mindist(grid1) == 159;\n",
    "\n",
    "grid2 = solve(example2)\n",
    "@test mindist(grid2) == 135;"
   ]
  },
  {
   "cell_type": "code",
   "execution_count": 10,
   "metadata": {},
   "outputs": [
    {
     "name": "stdout",
     "output_type": "stream",
     "text": [
      "Part 1: 258"
     ]
    }
   ],
   "source": [
    "# Part 1\n",
    "f = open(\"day_3_input.txt\");\n",
    "\n",
    "wires = readlines(f);\n",
    "wires = parsewires(wires);\n",
    "\n",
    "grid = solve(wires);\n",
    "results = mindist(grid)\n",
    "\n",
    "print(\"Part 1: $results\")"
   ]
  },
  {
   "cell_type": "code",
   "execution_count": null,
   "metadata": {},
   "outputs": [],
   "source": []
  }
 ],
 "metadata": {
  "kernelspec": {
   "display_name": "Julia 1.3.0",
   "language": "julia",
   "name": "julia-1.3"
  },
  "language_info": {
   "file_extension": ".jl",
   "mimetype": "application/julia",
   "name": "julia",
   "version": "1.3.0"
  }
 },
 "nbformat": 4,
 "nbformat_minor": 4
}
