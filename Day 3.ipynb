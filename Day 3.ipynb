{
 "cells": [
  {
   "cell_type": "code",
   "execution_count": 1,
   "metadata": {},
   "outputs": [],
   "source": [
    "using Test;"
   ]
  },
  {
   "cell_type": "code",
   "execution_count": 2,
   "metadata": {},
   "outputs": [],
   "source": [
    "struct Point\n",
    "    x::Int\n",
    "    y::Int\n",
    "end"
   ]
  },
  {
   "cell_type": "code",
   "execution_count": 3,
   "metadata": {},
   "outputs": [
    {
     "data": {
      "text/plain": [
       "parsewires (generic function with 1 method)"
      ]
     },
     "execution_count": 3,
     "metadata": {},
     "output_type": "execute_result"
    }
   ],
   "source": [
    "function parsewires(raw::Array{String,1})\n",
    "    map(l -> split(l, \",\"), raw)\n",
    "end"
   ]
  },
  {
   "cell_type": "code",
   "execution_count": 4,
   "metadata": {},
   "outputs": [],
   "source": [
    "function diranddist(instruction::AbstractString)::Tuple{AbstractString, Int}\n",
    "    string(instruction[1]), parse(Int, instruction[2:end])\n",
    "end\n",
    "\n",
    "@test diranddist(\"R75\") == (\"R\", 75);"
   ]
  },
  {
   "cell_type": "code",
   "execution_count": 5,
   "metadata": {},
   "outputs": [
    {
     "data": {
      "text/plain": [
       "wirevalue (generic function with 1 method)"
      ]
     },
     "execution_count": 5,
     "metadata": {},
     "output_type": "execute_result"
    }
   ],
   "source": [
    "function wirevalue(grid, point::Point, wire::Int)::Int\n",
    "    current = get(grid, point, 0)\n",
    "    \n",
    "    current + wire\n",
    "end"
   ]
  },
  {
   "cell_type": "code",
   "execution_count": 6,
   "metadata": {},
   "outputs": [
    {
     "data": {
      "text/plain": [
       "distance (generic function with 1 method)"
      ]
     },
     "execution_count": 6,
     "metadata": {},
     "output_type": "execute_result"
    }
   ],
   "source": [
    "function distance(a::Point, b::Point)::Int\n",
    "    abs(a.x - b.x) + abs(a.y - b.y)\n",
    "end"
   ]
  },
  {
   "cell_type": "code",
   "execution_count": 7,
   "metadata": {},
   "outputs": [],
   "source": [
    "function solve(wires)\n",
    "    grid = Dict{Point, Int}()\n",
    "    intersections = Array{Point,1}()\n",
    "\n",
    "    for (wire, instructions) in enumerate(wires)\n",
    "        x, y = 0, 0\n",
    "\n",
    "        for instruction in instructions\n",
    "            dir, dist = diranddist(instruction)\n",
    "\n",
    "            if dir == \"R\"\n",
    "                for _ in 1:dist\n",
    "                    x = x + 1\n",
    "\n",
    "                    point = Point(x, y)\n",
    "                    value = wirevalue(grid, point, wire)\n",
    "\n",
    "                    if value > 2\n",
    "                        push!(intersections, point)\n",
    "                    end\n",
    "\n",
    "                    grid[point] = value\n",
    "                end\n",
    "\n",
    "            elseif dir == \"L\"\n",
    "                for _ in 1:dist\n",
    "                    x = x - 1\n",
    "\n",
    "                    point = Point(x, y)\n",
    "                    value = wirevalue(grid, point, wire)\n",
    "\n",
    "                    if value > 2\n",
    "                        push!(intersections, point)\n",
    "                    end                \n",
    "\n",
    "                    grid[point] = value\n",
    "                end\n",
    "\n",
    "            elseif dir == \"U\"\n",
    "                for _ in 1:dist\n",
    "                    y = y + 1\n",
    "\n",
    "                    point = Point(x, y)\n",
    "                    value = wirevalue(grid, point, wire)\n",
    "\n",
    "                    if value > 2\n",
    "                        push!(intersections, point)\n",
    "                    end\n",
    "\n",
    "                    grid[point] = value\n",
    "                end\n",
    "\n",
    "            elseif dir == \"D\"\n",
    "                for _ in 1:dist\n",
    "                    y = y - 1\n",
    "\n",
    "                    point = Point(x, y)\n",
    "                    value = wirevalue(grid, point, wire)\n",
    "\n",
    "                    if value > 2\n",
    "                        push!(intersections, point)\n",
    "                    end\n",
    "\n",
    "                    grid[point] = value\n",
    "                end\n",
    "            else\n",
    "                error(\"Got invalid direction: $dir\\n\")\n",
    "            end\n",
    "        end\n",
    "    end\n",
    "    \n",
    "    origin = Point(0,0)\n",
    "    \n",
    "    distances = map(p -> distance(origin, p), intersections)\n",
    "\n",
    "    minimum(distances)\n",
    "end\n",
    "\n",
    "example1 = parsewires([\n",
    "    \"R75,D30,R83,U83,L12,D49,R71,U7,L72\",\n",
    "    \"U62,R66,U55,R34,D71,R55,D58,R83\"\n",
    "])\n",
    "\n",
    "example2 = parsewires([\n",
    "    \"R98,U47,R26,D63,R33,U87,L62,D20,R33,U53,R51\",\n",
    "    \"U98,R91,D20,R16,D67,R40,U7,R15,U6,R7\"\n",
    "])\n",
    "\n",
    "@test solve(example1) == 159;\n",
    "@test solve(example2) == 135;"
   ]
  },
  {
   "cell_type": "code",
   "execution_count": 8,
   "metadata": {},
   "outputs": [
    {
     "name": "stdout",
     "output_type": "stream",
     "text": [
      "Part 1: 26"
     ]
    }
   ],
   "source": [
    "f = open(\"day_3_input.txt\");\n",
    "\n",
    "wires = readlines(f);\n",
    "wires = parsewires(wires);\n",
    "\n",
    "results = solve(wires);\n",
    "print(\"Part 1: $results\")"
   ]
  },
  {
   "cell_type": "code",
   "execution_count": null,
   "metadata": {},
   "outputs": [],
   "source": []
  }
 ],
 "metadata": {
  "kernelspec": {
   "display_name": "Julia 1.3.0",
   "language": "julia",
   "name": "julia-1.3"
  },
  "language_info": {
   "file_extension": ".jl",
   "mimetype": "application/julia",
   "name": "julia",
   "version": "1.3.0"
  }
 },
 "nbformat": 4,
 "nbformat_minor": 4
}
