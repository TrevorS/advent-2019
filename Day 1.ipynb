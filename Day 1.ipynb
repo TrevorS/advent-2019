{
 "cells": [
  {
   "cell_type": "code",
   "execution_count": 1,
   "metadata": {},
   "outputs": [],
   "source": [
    "using Test;"
   ]
  },
  {
   "cell_type": "code",
   "execution_count": 2,
   "metadata": {},
   "outputs": [],
   "source": [
    "# Part 1\n",
    "function masstofuel(mass::Int)::Int\n",
    "    floor(mass / 3) - 2\n",
    "end\n",
    "\n",
    "@test masstofuel(1969) == 654;\n",
    "@test masstofuel(100756) == 33583;\n",
    "\n",
    "function masstofuel(mass::AbstractString)::Int\n",
    "    masstofuel(parse(Int, mass))\n",
    "end\n",
    "\n",
    "@test masstofuel(\"1969\") == 654;\n",
    "@test masstofuel(\"100756\") == 33583;"
   ]
  },
  {
   "cell_type": "code",
   "execution_count": 3,
   "metadata": {},
   "outputs": [
    {
     "name": "stdout",
     "output_type": "stream",
     "text": [
      "Part 1: 3412207"
     ]
    }
   ],
   "source": [
    "f = open(\"day_1_input.txt\");\n",
    "\n",
    "masses = readlines(f);\n",
    "\n",
    "fuel = sum(map(masstofuel, masses));\n",
    "\n",
    "# Answer to Part 1\n",
    "print(\"Part 1: $fuel\")"
   ]
  },
  {
   "cell_type": "code",
   "execution_count": 4,
   "metadata": {},
   "outputs": [],
   "source": [
    "# Part 2\n",
    "function masstofuel_actual(mass::Int, fuel::Int)::Int\n",
    "    new_fuel = masstofuel(mass)\n",
    "    \n",
    "    if new_fuel < 0\n",
    "        return fuel\n",
    "    end\n",
    "    \n",
    "    masstofuel_actual(new_fuel, fuel + new_fuel)\n",
    "end\n",
    "\n",
    "function masstofuel_actual(mass::Int)::Int\n",
    "    masstofuel_actual(mass, 0)\n",
    "end\n",
    "\n",
    "@test masstofuel_actual(14) == 2;\n",
    "@test masstofuel_actual(1969) == 966;\n",
    "@test masstofuel_actual(100756) == 50346;\n",
    "\n",
    "function masstofuel_actual(mass::AbstractString)::Int\n",
    "    masstofuel_actual(parse(Int, mass))\n",
    "end\n",
    "\n",
    "@test masstofuel_actual(\"14\") == 2;\n",
    "@test masstofuel_actual(\"1969\") == 966;\n",
    "@test masstofuel_actual(\"100756\") == 50346;"
   ]
  },
  {
   "cell_type": "code",
   "execution_count": 5,
   "metadata": {},
   "outputs": [
    {
     "name": "stdout",
     "output_type": "stream",
     "text": [
      "Part 2: 5115436"
     ]
    }
   ],
   "source": [
    "fuel_actual = sum(map(masstofuel_actual, masses));\n",
    "\n",
    "# Answer to Part 2\n",
    "print(\"Part 2: $fuel_actual\")"
   ]
  }
 ],
 "metadata": {
  "kernelspec": {
   "display_name": "Julia 1.3.0",
   "language": "julia",
   "name": "julia-1.3"
  },
  "language_info": {
   "file_extension": ".jl",
   "mimetype": "application/julia",
   "name": "julia",
   "version": "1.3.0"
  }
 },
 "nbformat": 4,
 "nbformat_minor": 4
}
