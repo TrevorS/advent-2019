{
 "cells": [
  {
   "cell_type": "code",
   "execution_count": 1,
   "metadata": {},
   "outputs": [],
   "source": [
    "using Test;"
   ]
  },
  {
   "cell_type": "code",
   "execution_count": 2,
   "metadata": {},
   "outputs": [],
   "source": [
    "Opcode = Array{Int,1};\n",
    "Program = Array{Int,1};\n",
    "RunResult = Tuple{Program,Bool};"
   ]
  },
  {
   "cell_type": "code",
   "execution_count": 3,
   "metadata": {},
   "outputs": [
    {
     "data": {
      "text/plain": [
       "compute (generic function with 1 method)"
      ]
     },
     "execution_count": 3,
     "metadata": {},
     "output_type": "execute_result"
    }
   ],
   "source": [
    "function compute(a::Int, b::Int, i::Int, operator::Function, program::Program)::Program\n",
    "    newprogram = copy(program)\n",
    "    \n",
    "    result = operator(program[a + 1], program[b + 1])\n",
    "    \n",
    "    newprogram[i + 1] = result\n",
    "    \n",
    "    newprogram\n",
    "end"
   ]
  },
  {
   "cell_type": "code",
   "execution_count": 4,
   "metadata": {},
   "outputs": [
    {
     "data": {
      "text/plain": [
       "run (generic function with 1 method)"
      ]
     },
     "execution_count": 4,
     "metadata": {},
     "output_type": "execute_result"
    }
   ],
   "source": [
    "function run(opcode::Opcode, program::Program)::RunResult\n",
    "    operator = opcode[1]\n",
    "    \n",
    "    if operator == 99\n",
    "        return program, true\n",
    "    end\n",
    "    \n",
    "    a, b, i = opcode[2:4]\n",
    "    \n",
    "    # addition\n",
    "    if operator == 1\n",
    "        return compute(a, b, i, +, program), false\n",
    "    end\n",
    "     \n",
    "    # multiplication\n",
    "    if operator == 2\n",
    "        return compute(a, b, i, *, program), false\n",
    "    end\n",
    "end"
   ]
  },
  {
   "cell_type": "code",
   "execution_count": 5,
   "metadata": {},
   "outputs": [],
   "source": [
    "function execute(program::Program, i::Int=1)::Program\n",
    "    opcode = collect(Iterators.partition(program, 4))[i]\n",
    "    program, halt = run(opcode, program)\n",
    "    \n",
    "    if halt\n",
    "        return program\n",
    "    end\n",
    "    \n",
    "    execute(program, i + 1)\n",
    "end\n",
    "\n",
    "@test execute([1,0,0,0,99]) == [2,0,0,0,99];\n",
    "@test execute([2,3,0,3,99]) == [2,3,0,6,99];\n",
    "@test execute([2,4,4,5,99,0]) == [2,4,4,5,99,9801];\n",
    "@test execute([1,1,1,4,99,5,6,0,99]) == [30,1,1,4,2,5,6,0,99];"
   ]
  },
  {
   "cell_type": "code",
   "execution_count": 6,
   "metadata": {},
   "outputs": [
    {
     "name": "stdout",
     "output_type": "stream",
     "text": [
      "Part 1: 3765464\n"
     ]
    }
   ],
   "source": [
    "# Part 1\n",
    "f = open(\"day_2_input.txt\");\n",
    "\n",
    "program = read(f, String);\n",
    "program = map(p -> parse(Int, strip(p)), split(program, \",\"));\n",
    "\n",
    "program[2] = 12;\n",
    "program[3] = 2;\n",
    "\n",
    "program = execute(program);\n",
    "result = program[1];\n",
    "\n",
    "print(\"Part 1: $result\\n\")"
   ]
  },
  {
   "cell_type": "code",
   "execution_count": 7,
   "metadata": {},
   "outputs": [
    {
     "name": "stdout",
     "output_type": "stream",
     "text": [
      "Part 2: 7610\n"
     ]
    }
   ],
   "source": [
    "# Part 2\n",
    "f = open(\"day_2_input.txt\");\n",
    "\n",
    "program = read(f, String);\n",
    "program = map(p -> parse(Int, strip(p)), split(program, \",\"));\n",
    "\n",
    "for noun in 0:99\n",
    "    for verb in 0:99\n",
    "        program_temp = copy(program)\n",
    "        \n",
    "        program_temp[2] = noun\n",
    "        program_temp[3] = verb\n",
    "        \n",
    "        result = execute(program_temp)[1]\n",
    "        \n",
    "        if result == 19690720\n",
    "            print(\"Part 2: $noun$verb\\n\")\n",
    "            break\n",
    "        end\n",
    "    end\n",
    "end"
   ]
  }
 ],
 "metadata": {
  "kernelspec": {
   "display_name": "Julia 1.3.0",
   "language": "julia",
   "name": "julia-1.3"
  },
  "language_info": {
   "file_extension": ".jl",
   "mimetype": "application/julia",
   "name": "julia",
   "version": "1.3.0"
  }
 },
 "nbformat": 4,
 "nbformat_minor": 4
}
